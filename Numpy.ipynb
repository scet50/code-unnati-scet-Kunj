{
 "cells": [
  {
   "cell_type": "markdown",
   "id": "825db6f5",
   "metadata": {},
   "source": [
    "# numpy"
   ]
  },
  {
   "cell_type": "code",
   "execution_count": 8,
   "id": "a5439aa4",
   "metadata": {},
   "outputs": [],
   "source": [
    "#Import Numpy Library\n",
    "import numpy as np\n",
    "from numpy import random"
   ]
  },
  {
   "cell_type": "code",
   "execution_count": 2,
   "id": "6b985aae",
   "metadata": {},
   "outputs": [
    {
     "data": {
      "text/plain": [
       "array([[1, 2, 3, 4],\n",
       "       [5, 6, 7, 8]])"
      ]
     },
     "execution_count": 2,
     "metadata": {},
     "output_type": "execute_result"
    }
   ],
   "source": [
    "#how to creat array\n",
    "arr= np.array([[1,2,3,4],[5,6,7,8]])\n",
    "arr"
   ]
  },
  {
   "cell_type": "code",
   "execution_count": 3,
   "id": "2c5ad04b",
   "metadata": {},
   "outputs": [
    {
     "data": {
      "text/plain": [
       "2"
      ]
     },
     "execution_count": 3,
     "metadata": {},
     "output_type": "execute_result"
    }
   ],
   "source": [
    "arr.ndim #dimension"
   ]
  },
  {
   "cell_type": "code",
   "execution_count": 4,
   "id": "f39a3a7e",
   "metadata": {},
   "outputs": [
    {
     "data": {
      "text/plain": [
       "(2, 4)"
      ]
     },
     "execution_count": 4,
     "metadata": {},
     "output_type": "execute_result"
    }
   ],
   "source": [
    "arr.shape #shape"
   ]
  },
  {
   "cell_type": "code",
   "execution_count": 5,
   "id": "f6e3c0d8",
   "metadata": {},
   "outputs": [
    {
     "data": {
      "text/plain": [
       "numpy.ndarray"
      ]
     },
     "execution_count": 5,
     "metadata": {},
     "output_type": "execute_result"
    }
   ],
   "source": [
    "type (arr)"
   ]
  },
  {
   "cell_type": "code",
   "execution_count": 6,
   "id": "a16984df",
   "metadata": {},
   "outputs": [
    {
     "data": {
      "text/plain": [
       "<memory at 0x00000208B8ED6790>"
      ]
     },
     "execution_count": 6,
     "metadata": {},
     "output_type": "execute_result"
    }
   ],
   "source": [
    "arr.data #memory location"
   ]
  },
  {
   "cell_type": "markdown",
   "id": "57c8dc19",
   "metadata": {},
   "source": [
    "# random number generator"
   ]
  },
  {
   "cell_type": "code",
   "execution_count": 11,
   "id": "480c1edd",
   "metadata": {},
   "outputs": [
    {
     "data": {
      "text/plain": [
       "47"
      ]
     },
     "execution_count": 11,
     "metadata": {},
     "output_type": "execute_result"
    }
   ],
   "source": [
    "x= random.randint(100)\n",
    "x"
   ]
  },
  {
   "cell_type": "code",
   "execution_count": 12,
   "id": "fcdfb2af",
   "metadata": {},
   "outputs": [
    {
     "data": {
      "text/plain": [
       "array([0.17910624, 0.85375717, 0.91774535, 0.67573078, 0.88576818,\n",
       "       0.17348225, 0.09843527, 0.35358276, 0.84597849, 0.42274389,\n",
       "       0.08211632, 0.59247999, 0.3948732 , 0.82132892, 0.97388903,\n",
       "       0.33014118, 0.95305943, 0.54060218, 0.20262613, 0.24015323,\n",
       "       0.48804053, 0.77663793, 0.39891049, 0.82037481, 0.52782686,\n",
       "       0.53021256, 0.56243855, 0.29377775, 0.02746384, 0.55885957,\n",
       "       0.85727207, 0.34709074, 0.1901757 , 0.48933947, 0.26630333,\n",
       "       0.59881534, 0.28544232, 0.95307144, 0.91808286, 0.34805101,\n",
       "       0.95039135, 0.43314176, 0.82117822, 0.04360533, 0.32153475,\n",
       "       0.39620096, 0.54592935, 0.55677056, 0.79476674, 0.77555608,\n",
       "       0.50064653, 0.0504337 , 0.39937443, 0.92414659, 0.61773273,\n",
       "       0.82520381, 0.796653  , 0.17663269, 0.52843554, 0.47917901,\n",
       "       0.16406267, 0.0156692 , 0.68445496, 0.35437151, 0.80074052,\n",
       "       0.97107309, 0.78745089, 0.97699665, 0.46073503, 0.23977887,\n",
       "       0.19218584, 0.55082847, 0.14628449, 0.32435564, 0.92394152,\n",
       "       0.43109212, 0.33975771, 0.22115023, 0.92695782, 0.39416643,\n",
       "       0.55547106, 0.01991784, 0.86407672, 0.13067981, 0.02171457,\n",
       "       0.12891978, 0.33176655, 0.33409779, 0.4613628 , 0.18884323,\n",
       "       0.80064211, 0.95694746, 0.36030094, 0.64427314, 0.69393891,\n",
       "       0.09062461, 0.1251255 , 0.64223795, 0.53052672, 0.06575035])"
      ]
     },
     "execution_count": 12,
     "metadata": {},
     "output_type": "execute_result"
    }
   ],
   "source": [
    "x= random.randint(100)\n",
    "x"
   ]
  },
  {
   "cell_type": "code",
   "execution_count": 13,
   "id": "a430bf99",
   "metadata": {},
   "outputs": [
    {
     "data": {
      "text/plain": [
       "array([0.57290364, 0.55204064, 0.97154795, 0.99672788, 0.11036111,\n",
       "       0.79429881, 0.7612849 , 0.36407133, 0.34553551, 0.76298561])"
      ]
     },
     "execution_count": 13,
     "metadata": {},
     "output_type": "execute_result"
    }
   ],
   "source": [
    "x= random.rand(10)\n",
    "x"
   ]
  },
  {
   "cell_type": "code",
   "execution_count": 15,
   "id": "ef1463af",
   "metadata": {},
   "outputs": [
    {
     "data": {
      "text/plain": [
       "array([[22, 70, 31],\n",
       "       [94, 37, 77],\n",
       "       [75, 98, 99],\n",
       "       [53, 13, 54],\n",
       "       [17, 69,  2]])"
      ]
     },
     "execution_count": 15,
     "metadata": {},
     "output_type": "execute_result"
    }
   ],
   "source": [
    "x= random.randint(100, size=(5,3)) #two dimensional array\n",
    "x"
   ]
  },
  {
   "cell_type": "markdown",
   "id": "d93a19ea",
   "metadata": {},
   "source": [
    "# array work"
   ]
  },
  {
   "cell_type": "code",
   "execution_count": 16,
   "id": "b2a7e823",
   "metadata": {},
   "outputs": [
    {
     "data": {
      "text/plain": [
       "5"
      ]
     },
     "execution_count": 16,
     "metadata": {},
     "output_type": "execute_result"
    }
   ],
   "source": [
    "a= random.randint(7)\n",
    "a"
   ]
  },
  {
   "cell_type": "code",
   "execution_count": 26,
   "id": "e5efe61e",
   "metadata": {},
   "outputs": [
    {
     "name": "stdout",
     "output_type": "stream",
     "text": [
      "A= [6 1 4 3 8 7 4]\n",
      "B= [5 7 5 0 9 6 5]\n",
      "c= [11  8  9  3 17 13  9]\n",
      "d= [30  7 20  0 72 42 20]\n",
      "e= [1.2        0.14285714 0.8               inf 0.88888889 1.16666667\n",
      " 0.8       ]\n"
     ]
    },
    {
     "name": "stderr",
     "output_type": "stream",
     "text": [
      "C:\\Users\\Sap\\AppData\\Local\\Temp\\ipykernel_14028\\149780678.py:9: RuntimeWarning: divide by zero encountered in true_divide\n",
      "  e=a/b\n"
     ]
    }
   ],
   "source": [
    "a= random.randint(10, size=(7))\n",
    "print (\"A=\",a)\n",
    "b= random.randint(10, size=(7))\n",
    "print (\"B=\",b)\n",
    "c=a+b\n",
    "print (\"c=\",c)\n",
    "d=a*b\n",
    "print(\"d=\",d)\n",
    "e=a/b\n",
    "print(\"e=\",e)"
   ]
  },
  {
   "cell_type": "code",
   "execution_count": 22,
   "id": "190218b8",
   "metadata": {},
   "outputs": [
    {
     "data": {
      "text/plain": [
       "array([36,  7,  6,  8, 35,  7,  0])"
      ]
     },
     "execution_count": 22,
     "metadata": {},
     "output_type": "execute_result"
    }
   ],
   "source": [
    "a*b"
   ]
  },
  {
   "cell_type": "code",
   "execution_count": 23,
   "id": "314f6d40",
   "metadata": {},
   "outputs": [
    {
     "data": {
      "text/plain": [
       "array([13,  8,  5,  6, 12,  8,  6])"
      ]
     },
     "execution_count": 23,
     "metadata": {},
     "output_type": "execute_result"
    }
   ],
   "source": [
    "a+b"
   ]
  },
  {
   "cell_type": "markdown",
   "id": "4bb7095f",
   "metadata": {},
   "source": [
    "# Metrix in numpy"
   ]
  },
  {
   "cell_type": "code",
   "execution_count": 29,
   "id": "93d4b039",
   "metadata": {},
   "outputs": [
    {
     "data": {
      "text/plain": [
       "matrix([[1, 2],\n",
       "        [3, 4]])"
      ]
     },
     "execution_count": 29,
     "metadata": {},
     "output_type": "execute_result"
    }
   ],
   "source": [
    "a=np.matrix('1 2;3 4')\n",
    "a"
   ]
  },
  {
   "cell_type": "code",
   "execution_count": 31,
   "id": "fa1e205c",
   "metadata": {},
   "outputs": [
    {
     "data": {
      "text/plain": [
       "matrix([[1, 2, 3],\n",
       "        [3, 4, 5],\n",
       "        [5, 6, 7]])"
      ]
     },
     "execution_count": 31,
     "metadata": {},
     "output_type": "execute_result"
    }
   ],
   "source": [
    "a=np.matrix('1 2 3;3 4 5;5 6 7')\n",
    "a"
   ]
  },
  {
   "cell_type": "markdown",
   "id": "73d469ac",
   "metadata": {},
   "source": [
    "# measurement of central tendency"
   ]
  },
  {
   "cell_type": "code",
   "execution_count": 37,
   "id": "6dda5de1",
   "metadata": {},
   "outputs": [
    {
     "data": {
      "text/plain": [
       "array([[1, 2, 3],\n",
       "       [4, 5, 6],\n",
       "       [6, 7, 8]])"
      ]
     },
     "execution_count": 37,
     "metadata": {},
     "output_type": "execute_result"
    }
   ],
   "source": [
    "arr =np.array([[1,2,3],[4,5,6],[6,7,8]])\n",
    "arr\n",
    "\n"
   ]
  },
  {
   "cell_type": "code",
   "execution_count": 38,
   "id": "ffd8814d",
   "metadata": {},
   "outputs": [
    {
     "data": {
      "text/plain": [
       "1"
      ]
     },
     "execution_count": 38,
     "metadata": {},
     "output_type": "execute_result"
    }
   ],
   "source": [
    "np.min(arr)"
   ]
  },
  {
   "cell_type": "code",
   "execution_count": 39,
   "id": "acc76b26",
   "metadata": {},
   "outputs": [
    {
     "data": {
      "text/plain": [
       "8"
      ]
     },
     "execution_count": 39,
     "metadata": {},
     "output_type": "execute_result"
    }
   ],
   "source": [
    "np.max(arr)"
   ]
  },
  {
   "cell_type": "code",
   "execution_count": 40,
   "id": "17a4a5a4",
   "metadata": {},
   "outputs": [
    {
     "data": {
      "text/plain": [
       "4.666666666666667"
      ]
     },
     "execution_count": 40,
     "metadata": {},
     "output_type": "execute_result"
    }
   ],
   "source": [
    "np.mean(arr)"
   ]
  },
  {
   "cell_type": "code",
   "execution_count": 41,
   "id": "c997d5b4",
   "metadata": {},
   "outputs": [
    {
     "data": {
      "text/plain": [
       "5.0"
      ]
     },
     "execution_count": 41,
     "metadata": {},
     "output_type": "execute_result"
    }
   ],
   "source": [
    "np.median(arr)"
   ]
  },
  {
   "cell_type": "code",
   "execution_count": null,
   "id": "b17bcd46",
   "metadata": {},
   "outputs": [],
   "source": []
  },
  {
   "cell_type": "code",
   "execution_count": null,
   "id": "e69144d0",
   "metadata": {},
   "outputs": [],
   "source": []
  }
 ],
 "metadata": {
  "kernelspec": {
   "display_name": "Python 3 (ipykernel)",
   "language": "python",
   "name": "python3"
  },
  "language_info": {
   "codemirror_mode": {
    "name": "ipython",
    "version": 3
   },
   "file_extension": ".py",
   "mimetype": "text/x-python",
   "name": "python",
   "nbconvert_exporter": "python",
   "pygments_lexer": "ipython3",
   "version": "3.9.13"
  }
 },
 "nbformat": 4,
 "nbformat_minor": 5
}
